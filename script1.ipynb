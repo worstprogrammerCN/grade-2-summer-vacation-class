{
 "cells": [
  {
   "cell_type": "code",
   "execution_count": 19,
   "metadata": {},
   "outputs": [],
   "source": [
    "import math\n",
    "\n",
    "def f(x):\n",
    "    return x * math.log(x) - 16.0"
   ]
  },
  {
   "cell_type": "code",
   "execution_count": 20,
   "metadata": {
    "collapsed": true
   },
   "outputs": [],
   "source": [
    "def fprime(x):\n",
    "    return 1.0 + math.log(x)"
   ]
  },
  {
   "cell_type": "code",
   "execution_count": 25,
   "metadata": {},
   "outputs": [],
   "source": [
    "'''\n",
    "x_0: initial guess\n",
    "EPSILON: stop when abs(x - x_new) < EPSILON\n",
    "MAX_ITER: maximum number of iterations\n",
    "\n",
    "NOTE: you must use the default values of the above parameters, do not change them\n",
    "'''\n",
    "def find_root(f, fprime, x_0=1.0, EPSILON = 1E-7, MAX_ITER = 1000): # do not change the heading of the function\n",
    "    iter = 0\n",
    "    x = x_0\n",
    "    while(iter <= 1000):\n",
    "        iter += 1\n",
    "        x_new = x - f(x) / fprime(x)\n",
    "        diff = abs(x - x_new)\n",
    "        if (diff < 1E-7):\n",
    "            return x_new\n",
    "        x = x_new"
   ]
  },
  {
   "cell_type": "code",
   "execution_count": 26,
   "metadata": {},
   "outputs": [
    {
     "name": "stdout",
     "output_type": "stream",
     "text": [
      "7.792741452820329\n",
      "0.0\n"
     ]
    }
   ],
   "source": [
    "x = find_root(f, fprime)\n",
    "print(x)\n",
    "print(f(x))"
   ]
  },
  {
   "cell_type": "code",
   "execution_count": 100,
   "metadata": {},
   "outputs": [],
   "source": [
    "def comb(rang, num):\n",
    "    return rev(1, rang, num)\n",
    "\n",
    "def rev(start, end, num):\n",
    "    rang = end - start + 1\n",
    "    if (rang < num):\n",
    "        print(\"wrong!\")\n",
    "        return\n",
    "    if (rang == num):\n",
    "        return [list(range(start, end + 1))]\n",
    "    if (num == 1):\n",
    "        return [[number] for number in list(range(start, end + 1))]\n",
    "    result = []\n",
    "    b = [arr + [end] for arr in rev(start, end - 1, num - 1)]\n",
    "    c = [arr for arr in rev(start, end - 1, num)]\n",
    "    return b + c"
   ]
  },
  {
   "cell_type": "code",
   "execution_count": 101,
   "metadata": {},
   "outputs": [
    {
     "name": "stdout",
     "output_type": "stream",
     "text": [
      "[[1, 5, 6], [2, 5, 6], [3, 5, 6], [4, 5, 6], [1, 4, 6], [2, 4, 6], [3, 4, 6], [1, 3, 6], [2, 3, 6], [1, 2, 6], [1, 4, 5], [2, 4, 5], [3, 4, 5], [1, 3, 5], [2, 3, 5], [1, 2, 5], [1, 3, 4], [2, 3, 4], [1, 2, 4], [1, 2, 3]]\n"
     ]
    }
   ],
   "source": [
    "print(comb(6, 3))"
   ]
  }
 ],
 "metadata": {
  "kernelspec": {
   "display_name": "Python 3",
   "language": "python",
   "name": "python3"
  },
  "language_info": {
   "codemirror_mode": {
    "name": "ipython",
    "version": 3
   },
   "file_extension": ".py",
   "mimetype": "text/x-python",
   "name": "python",
   "nbconvert_exporter": "python",
   "pygments_lexer": "ipython3",
   "version": "3.6.1"
  }
 },
 "nbformat": 4,
 "nbformat_minor": 2
}
