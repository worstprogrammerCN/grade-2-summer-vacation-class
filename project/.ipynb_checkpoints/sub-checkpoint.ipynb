{
 "cells": [
  {
   "cell_type": "code",
   "execution_count": 15,
   "metadata": {},
   "outputs": [
    {
     "name": "stdout",
     "output_type": "stream",
     "text": [
      "<function test at 0x0721CE88>\n",
      "None\n"
     ]
    }
   ],
   "source": [
    "## import modules here \n",
    "import helper\n",
    "import submission\n",
    "\n",
    "from sklearn.metrics import f1_score\n",
    "\n",
    "training_data = helper.read_data('./asset/training_data.txt')\n",
    "classifier_path = './asset/classifier.dat'\n",
    "submission.train(training_data, classifier_path)\n",
    "\n",
    "test_data = helper.read_data('./asset/tiny_test.txt')\n",
    "prediction = submission.test(test_data, classifier_path)\n",
    "print(prediction)      \n",
    "\n",
    "from sklearn.metrics import f1_score\n",
    "ground_truth = [1, 1, 2, 1]\n",
    "print(f1_score(ground_truth, prediction, average='micro'))"
   ]
  }
 ],
 "metadata": {
  "kernelspec": {
   "display_name": "Python 3",
   "language": "python",
   "name": "python3"
  },
  "language_info": {
   "codemirror_mode": {
    "name": "ipython",
    "version": 3
   },
   "file_extension": ".py",
   "mimetype": "text/x-python",
   "name": "python",
   "nbconvert_exporter": "python",
   "pygments_lexer": "ipython3",
   "version": "3.6.1"
  }
 },
 "nbformat": 4,
 "nbformat_minor": 2
}
