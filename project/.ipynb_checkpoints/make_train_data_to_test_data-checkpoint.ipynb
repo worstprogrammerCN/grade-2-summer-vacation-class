{
 "cells": [
  {
   "cell_type": "code",
   "execution_count": 6,
   "metadata": {},
   "outputs": [
    {
     "data": {
      "text/plain": [
       "577712"
      ]
     },
     "execution_count": 6,
     "metadata": {},
     "output_type": "execute_result"
    }
   ],
   "source": [
    "import helper\n",
    "import re\n",
    "def get_phonemes_without_number(phonemes):\n",
    "    phonemes_without_number = []\n",
    "    for phoneme in phonemes:\n",
    "        if phoneme[-1].isdigit():\n",
    "            phonemes_without_number.append(phoneme[:-1])\n",
    "        else:\n",
    "            phonemes_without_number.append(phoneme)\n",
    "    return phonemes_without_number\n",
    "\n",
    "def preprocess(unprocessed_data):\n",
    "    X = []\n",
    "    for line in unprocessed_data:\n",
    "        pos_primary_stress = -1\n",
    "        parts = re.split(\"\\s|:\", line)\n",
    "        phonemes = parts[1:]\n",
    "        phonemes_without_number = get_phonemes_without_number(phonemes)\n",
    "        word = parts[0]\n",
    "        vowels = []\n",
    "        consonants = []\n",
    "        primary_stress = \"\"\n",
    "        \n",
    "        for index in range(1, len(parts)):\n",
    "            if re.match('[a-zA-Z]+\\d', parts[index]): #若是vowel则尾部必带有数字\n",
    "                vowels.append(parts[index])\n",
    "            else:                                   #若是con则必不带数字\n",
    "                consonants.append(parts[index])\n",
    "            if parts[index].find('1') != -1: #若含有'1'则是primary_stress\n",
    "                primary_stress = parts[index]\n",
    "        \n",
    "        \n",
    "        pos_primary_stress_in_vowel = vowels.index(primary_stress) + 1\n",
    "        pho_str = content = \" \".join(phonemes_without_number)\n",
    "        x = word + ':'  + pho_str\n",
    "        X.append(x)\n",
    "    return X\n",
    "\n",
    "training_data = helper.read_data('./asset/training_data.txt')\n",
    "classifier_path = './asset/classifier.dat'\n",
    "data = helper.read_data('./asset/training_data.txt')\n",
    "\n",
    "fi = open('./asset/testing_data1.txt', 'w')\n",
    "X = preprocess(data)\n",
    "to_write = \"\\n\".join(X)\n",
    "fi.write(to_write)"
   ]
  }
 ],
 "metadata": {
  "kernelspec": {
   "display_name": "Python 3",
   "language": "python",
   "name": "python3"
  },
  "language_info": {
   "codemirror_mode": {
    "name": "ipython",
    "version": 3
   },
   "file_extension": ".py",
   "mimetype": "text/x-python",
   "name": "python",
   "nbconvert_exporter": "python",
   "pygments_lexer": "ipython3",
   "version": "3.6.1"
  }
 },
 "nbformat": 4,
 "nbformat_minor": 2
}
