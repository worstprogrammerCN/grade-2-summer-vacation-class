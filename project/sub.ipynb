{
 "cells": [
  {
   "cell_type": "code",
   "execution_count": 2,
   "metadata": {},
   "outputs": [
    {
     "name": "stdout",
     "output_type": "stream",
     "text": [
      "['COED', 'K', 'OW1', 'EH2', 'D']\n",
      "2\n",
      "['PURVIEW', 'P', 'ER1', 'V', 'Y', 'UW2']\n",
      "2\n",
      "['HEHIR', 'HH', 'EH1', 'HH', 'IH0', 'R']\n",
      "2\n",
      "['MUSCLING', 'M', 'AH1', 'S', 'AH0', 'L', 'IH0', 'NG']\n",
      "2\n",
      "['NONPOISONOUS', 'N', 'AA0', 'N', 'P', 'OY1', 'Z', 'AH0', 'N', 'AH0', 'S']\n",
      "2\n",
      "['LAVECCHIA', 'L', 'AA0', 'V', 'EH1', 'K', 'IY0', 'AH0']\n",
      "2\n",
      "['BUCKLED', 'B', 'AH1', 'K', 'AH0', 'L', 'D']\n",
      "2\n",
      "['EATEN', 'IY1', 'T', 'AH0', 'N']\n",
      "1\n",
      "['SCIMED', 'S', 'AY1', 'M', 'EH2', 'D']\n",
      "2\n",
      "['ZHAMBU', 'Z', 'AA0', 'M', 'B', 'UW1']\n",
      "2\n",
      "['BIXEL', 'B', 'IH1', 'K', 'S', 'AH0', 'L']\n",
      "2\n",
      "['MCGUIRE', 'M', 'AH0', 'G', 'W', 'AY1', 'R']\n",
      "2\n",
      "['ADAN', 'EY1', 'D', 'AH0', 'N']\n",
      "1\n",
      "['DARIUS', 'D', 'ER0', 'AY1', 'AH0', 'S']\n",
      "2\n",
      "['LOADERS', 'L', 'OW1', 'D', 'ER0', 'Z']\n",
      "2\n",
      "['GANIC', 'G', 'AE1', 'N', 'IH0', 'K']\n",
      "2\n",
      "['ENSINGER', 'EH1', 'N', 'S', 'IH0', 'N', 'JH', 'ER0']\n",
      "1\n",
      "['GRYDER', 'G', 'R', 'AY1', 'D', 'ER0']\n",
      "3\n",
      "['OUTBOARD', 'AW1', 'T', 'B', 'AO2', 'R', 'D']\n",
      "1\n",
      "['BOUSKA', 'B', 'UW1', 'S', 'K', 'AH0']\n",
      "2\n"
     ]
    },
    {
     "data": {
      "image/png": "[encoded data removed]",
      "text/plain": [
       "<matplotlib.figure.Figure at 0x823eab0>"
      ]
     },
     "metadata": {},
     "output_type": "display_data"
    }
   ],
   "source": [
    "## import modules here \n",
    "import helper\n",
    "import submission\n",
    "from sklearn.metrics import f1_score\n",
    "from sklearn.model_selection import train_test_split\n",
    "from sklearn.neighbors import KNeighborsClassifier\n",
    "from sklearn.tree import DecisionTreeClassifier\n",
    "from sklearn import linear_model\n",
    "from sklearn import model_selection\n",
    "from sklearn.kernel_approximation import RBFSampler\n",
    "import matplotlib.pyplot as plt\n",
    "\n",
    "training_data = helper.read_data('./asset/training_data.txt')\n",
    "classifier_path = './asset/classifier.dat'\n",
    "#submission.train(training_data, classifier_path)\n",
    "\n",
    "#test_data = helper.read_data('./asset/tiny_test.txt')\n",
    "#prediction = submission.test(test_data, classifier_path)\n",
    "#print(prediction)  \n",
    "data = helper.read_data('./asset/training_data.txt')\n",
    "X, Y = submission.preprocess(data)\n",
    "k_range = range(1, 31)\n",
    "k_scores = []\n",
    "for k in k_range:\n",
    "    knn = KNeighborsClassifier(n_neighbors=k)\n",
    "    scores = model_selection.cross_val_score(knn, X, Y, cv=5, scoring='accuracy')\n",
    "    k_scores.append(scores.mean())\n",
    "\n",
    "plt.plot(k_range, k_scores)\n",
    "plt.xlabel('Value of K for KNN')\n",
    "plt.ylabel('Cross-Validated Accuracy')\n",
    "plt.show()\n",
    "#X_train, X_test, Y_train, Y_test = train_test_split(X, Y, test_size=0.33, random_state=10)\n",
    "#print(f1_score(Y_test, prediction, average='micro'))\n",
    "\n"
   ]
  },
  {
   "cell_type": "code",
   "execution_count": null,
   "metadata": {
    "collapsed": true
   },
   "outputs": [],
   "source": []
  },
  {
   "cell_type": "code",
   "execution_count": null,
   "metadata": {
    "collapsed": true
   },
   "outputs": [],
   "source": []
  }
 ],
 "metadata": {
  "kernelspec": {
   "display_name": "Python 3",
   "language": "python",
   "name": "python3"
  },
  "language_info": {
   "codemirror_mode": {
    "name": "ipython",
    "version": 3
   },
   "file_extension": ".py",
   "mimetype": "text/x-python",
   "name": "python",
   "nbconvert_exporter": "python",
   "pygments_lexer": "ipython3",
   "version": "3.6.1"
  }
 },
 "nbformat": 4,
 "nbformat_minor": 2
}
